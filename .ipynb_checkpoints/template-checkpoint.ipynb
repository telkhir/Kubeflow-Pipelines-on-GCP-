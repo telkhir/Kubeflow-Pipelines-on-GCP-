{
 "cells": [
  {
   "cell_type": "markdown",
   "metadata": {
    "colab_type": "text",
    "id": "ydsPE-aN1Alm"
   },
   "source": [
    "##### Copyright &copy; 2020 The TensorFlow Authors."
   ]
  },
  {
   "cell_type": "markdown",
   "metadata": {
    "colab_type": "text",
    "id": "uCSByGH6C7zS"
   },
   "source": [
    "<font size=-1>Licensed under the Apache License, Version 2.0 (the \\\"License\\\");\n",
    "you may not use this file except in compliance with the License.\n",
    "You may obtain a copy of the License at [https://www.apache.org/licenses/LICENSE-2.0](https://www.apache.org/licenses/LICENSE-2.0)\n",
    "\n",
    "Unless required by applicable law or agreed to in writing, software distributed under the License is distributed on an \\\"AS IS\\\" BASIS, WITHOUT WARRANTIES OR CONDITIONS OF ANY KIND, either express or implied.  See the License for the specific language governing permissions and limitations under the License.</font>"
   ]
  },
  {
   "cell_type": "markdown",
   "metadata": {
    "colab_type": "text",
    "id": "6TyrY7lV0oke"
   },
   "source": [
    "# Create a TFX pipeline using templates"
   ]
  },
  {
   "cell_type": "markdown",
   "metadata": {
    "colab_type": "text",
    "id": "iLYriYe10okf"
   },
   "source": [
    "## Introduction\n",
    "\n",
    "This document will provide instructions to create a TensorFlow Extended (TFX) pipeline\n",
    "using *templates* which are provided with TFX Python package.\n",
    "Many of the instructions are Linux shell commands, which will run on an AI Platform Notebooks instance. Corresponding Jupyter Notebook code cells which invoke those commands using `!` are provided.\n",
    "\n",
    "You will build a pipeline using [Taxi Trips dataset](\n",
    "https://data.cityofchicago.org/Transportation/Taxi-Trips/wrvz-psew)\n",
    "released by the City of Chicago. We strongly encourage you to try building\n",
    "your own pipeline using your dataset by utilizing this pipeline as a baseline.\n"
   ]
  },
  {
   "cell_type": "markdown",
   "metadata": {
    "colab_type": "text",
    "id": "jxPMeugQ0okg"
   },
   "source": [
    "## Step 1. Set up your environment.\n",
    "\n",
    "AI Platform Pipelines will prepare a development environment to build a pipeline, and a Kubeflow Pipeline cluster to run the newly built pipeline.\n",
    "\n",
    "**NOTE:** To select a particular TensorFlow version, or select a GPU instance, create a TensorFlow pre-installed instance in AI Platform Notebooks.\n",
    "\n",
    "**NOTE:** There might be some errors during package installation. For example: \n",
    "\n",
    ">\"ERROR: some-package 0.some_version.1 has requirement other-package!=2.0.,&lt;3,&gt;=1.15, but you'll have other-package 2.0.0 which is incompatible.\" Please ignore these errors at this moment.\n"
   ]
  },
  {
   "cell_type": "markdown",
   "metadata": {
    "colab_type": "text",
    "id": "-am1yWXt0okh"
   },
   "source": [
    "Install `tfx`, `kfp`, and `skaffold`, and add installation path to the `PATH` environment variable."
   ]
  },
  {
   "cell_type": "code",
   "execution_count": 1,
   "metadata": {
    "colab": {},
    "colab_type": "code",
    "id": "XNiqq_kN0okj"
   },
   "outputs": [
    {
     "name": "stdout",
     "output_type": "stream",
     "text": [
      "\u001b[33m  WARNING: The script tensorboard is installed in '/home/jupyter/.local/bin' which is not on PATH.\n",
      "  Consider adding this directory to PATH or, if you prefer to suppress this warning, use --no-warn-script-location.\u001b[0m\n",
      "\u001b[33m  WARNING: The scripts estimator_ckpt_converter, import_pb_to_tensorboard, saved_model_cli, tensorboard, tf_upgrade_v2, tflite_convert, toco and toco_from_protos are installed in '/home/jupyter/.local/bin' which is not on PATH.\n",
      "  Consider adding this directory to PATH or, if you prefer to suppress this warning, use --no-warn-script-location.\u001b[0m\n",
      "\u001b[33m  WARNING: The script plasma_store is installed in '/home/jupyter/.local/bin' which is not on PATH.\n",
      "  Consider adding this directory to PATH or, if you prefer to suppress this warning, use --no-warn-script-location.\u001b[0m\n",
      "\u001b[33m  WARNING: The script gen_client is installed in '/home/jupyter/.local/bin' which is not on PATH.\n",
      "  Consider adding this directory to PATH or, if you prefer to suppress this warning, use --no-warn-script-location.\u001b[0m\n",
      "\u001b[33m  WARNING: The script tfx is installed in '/home/jupyter/.local/bin' which is not on PATH.\n",
      "  Consider adding this directory to PATH or, if you prefer to suppress this warning, use --no-warn-script-location.\u001b[0m\n",
      "\u001b[31mERROR: After October 2020 you may experience errors when installing or updating packages. This is because pip will change the way that it resolves dependency conflicts.\n",
      "\n",
      "We recommend you use --use-feature=2020-resolver to test your packages with the new resolver before it becomes the default.\n",
      "\n",
      "witwidget 1.7.0 requires oauth2client>=4.1.3, but you'll have oauth2client 3.0.0 which is incompatible.\n",
      "tensorflow 2.4.0 requires absl-py~=0.10, but you'll have absl-py 0.8.1 which is incompatible.\n",
      "tensorflow 2.4.0 requires grpcio~=1.32.0, but you'll have grpcio 1.33.2 which is incompatible.\n",
      "tensorflow-transform 0.23.0 requires tensorflow!=2.0.*,!=2.1.*,!=2.2.*,<2.4,>=1.15.2, but you'll have tensorflow 2.4.0 which is incompatible.\n",
      "tensorflow-io 0.11.0 requires tensorflow==2.1.0, but you'll have tensorflow 2.4.0 which is incompatible.\n",
      "pandas-profiling 2.8.0 requires visions[type_image_path]==0.4.4, but you'll have visions 0.6.4 which is incompatible.\n",
      "explainable-ai-sdk 1.1.0 requires numpy<1.19.0, but you'll have numpy 1.19.4 which is incompatible.\u001b[0m\n",
      "\u001b[33m  WARNING: The script strip-hints is installed in '/home/jupyter/.local/bin' which is not on PATH.\n",
      "  Consider adding this directory to PATH or, if you prefer to suppress this warning, use --no-warn-script-location.\u001b[0m\n",
      "\u001b[33m  WARNING: The scripts dsl-compile and kfp are installed in '/home/jupyter/.local/bin' which is not on PATH.\n",
      "  Consider adding this directory to PATH or, if you prefer to suppress this warning, use --no-warn-script-location.\u001b[0m\n",
      "  % Total    % Received % Xferd  Average Speed   Time    Time     Time  Current\n",
      "                                 Dload  Upload   Total   Spent    Left  Speed\n",
      "100 47.2M  100 47.2M    0     0  87.3M      0 --:--:-- --:--:-- --:--:-- 87.3M\n"
     ]
    }
   ],
   "source": [
    "# Install tfx and kfp Python packages.\n",
    "import sys\n",
    "!{sys.executable} -m pip install --user --upgrade -q tfx==0.23.0\n",
    "!{sys.executable} -m pip install --user --upgrade -q kfp==1.0.0\n",
    "# Download skaffold and set it executable.\n",
    "!curl -Lo skaffold https://storage.googleapis.com/skaffold/releases/latest/skaffold-linux-amd64 && chmod +x skaffold && mv skaffold /home/jupyter/.local/bin/"
   ]
  },
  {
   "cell_type": "code",
   "execution_count": 2,
   "metadata": {
    "colab": {},
    "colab_type": "code",
    "id": "43ncix2Q0okm"
   },
   "outputs": [
    {
     "name": "stdout",
     "output_type": "stream",
     "text": [
      "env: PATH=/usr/local/cuda/bin:/opt/conda/bin:/opt/conda/condabin:/usr/local/bin:/usr/bin:/bin:/usr/local/games:/usr/games:/home/jupyter/.local/bin\n"
     ]
    }
   ],
   "source": [
    "# Set `PATH` to include user python binary directory and a directory containing `skaffold`.\n",
    "PATH=%env PATH\n",
    "%env PATH={PATH}:/home/jupyter/.local/bin"
   ]
  },
  {
   "cell_type": "markdown",
   "metadata": {
    "colab_type": "text",
    "id": "hX1rqpbQ0okp"
   },
   "source": [
    "Let's check the versions of TFX."
   ]
  },
  {
   "cell_type": "code",
   "execution_count": 3,
   "metadata": {
    "colab": {},
    "colab_type": "code",
    "id": "XAIoKMNG0okq"
   },
   "outputs": [
    {
     "name": "stdout",
     "output_type": "stream",
     "text": [
      "TFX version: 0.23.0\n"
     ]
    }
   ],
   "source": [
    "!python3 -c \"import tfx; print('TFX version: {}'.format(tfx.__version__))\""
   ]
  },
  {
   "cell_type": "markdown",
   "metadata": {
    "colab_type": "text",
    "id": "_7JLpaXT0okv"
   },
   "source": [
    "In AI Platform Pipelines, TFX is running in a hosted Kubernetes environment using [Kubeflow Pipelines](https://www.kubeflow.org/docs/pipelines/overview/pipelines-overview/).\n",
    "\n",
    "Let's set some environment variables to use Kubeflow Pipelines.\n",
    "\n",
    "First, get your GCP project ID."
   ]
  },
  {
   "cell_type": "code",
   "execution_count": 4,
   "metadata": {
    "colab": {},
    "colab_type": "code",
    "id": "Hw3nsooU0okv"
   },
   "outputs": [
    {
     "name": "stdout",
     "output_type": "stream",
     "text": [
      "env: GOOGLE_CLOUD_PROJECT=rl-adventure\n",
      "GCP project ID:rl-adventure\n"
     ]
    }
   ],
   "source": [
    "# Read GCP project id from env.\n",
    "shell_output=!gcloud config list --format 'value(core.project)' 2>/dev/null\n",
    "GOOGLE_CLOUD_PROJECT=shell_output[0]\n",
    "%env GOOGLE_CLOUD_PROJECT={GOOGLE_CLOUD_PROJECT}\n",
    "print(\"GCP project ID:\" + GOOGLE_CLOUD_PROJECT)"
   ]
  },
  {
   "cell_type": "markdown",
   "metadata": {
    "colab_type": "text",
    "id": "A_6r4uzE0oky"
   },
   "source": [
    "We also need to access your KFP cluster. You can access it in your Google Cloud Console under \"AI Platform > Pipeline\" menu. The \"endpoint\" of the KFP cluster can be found from the URL of the Pipelines dashboard, or you can get it from the URL of the Getting Started page where you launched this notebook. Let's create an `ENDPOINT` environment variable and set it to the KFP cluster endpoint. **ENDPOINT should contain only the hostname part of the URL.** For example, if the URL of the KFP dashboard is `https://1e9deb537390ca22-dot-asia-east1.pipelines.googleusercontent.com/#/start`, ENDPOINT value becomes `1e9deb537390ca22-dot-asia-east1.pipelines.googleusercontent.com`.\n",
    "\n",
    ">**NOTE: You MUST set your ENDPOINT value below.**"
   ]
  },
  {
   "cell_type": "code",
   "execution_count": 7,
   "metadata": {
    "colab": {},
    "colab_type": "code",
    "id": "AzqEQORV0oky"
   },
   "outputs": [],
   "source": [
    "# This refers to the KFP cluster endpoint\n",
    "ENDPOINT='7be68832f4612706-dot-us-central2.pipelines.googleusercontent.com' # Enter your ENDPOINT here.\n",
    "if not ENDPOINT:\n",
    "    from absl import logging\n",
    "    logging.error('Set your ENDPOINT in this cell.')"
   ]
  },
  {
   "cell_type": "markdown",
   "metadata": {
    "colab_type": "text",
    "id": "K6T-KXeA0ok3"
   },
   "source": [
    "Set the image name as `tfx-pipeline` under the current GCP project."
   ]
  },
  {
   "cell_type": "code",
   "execution_count": 8,
   "metadata": {
    "colab": {},
    "colab_type": "code",
    "id": "3ztxXOVD0ok4"
   },
   "outputs": [],
   "source": [
    "# Docker image name for the pipeline image.\n",
    "CUSTOM_TFX_IMAGE='gcr.io/' + GOOGLE_CLOUD_PROJECT + '/tfx-pipeline'"
   ]
  },
  {
   "cell_type": "markdown",
   "metadata": {
    "colab_type": "text",
    "id": "TOsQbkky0ok7"
   },
   "source": [
    "And, it's done. We are ready to create a pipeline."
   ]
  },
  {
   "cell_type": "markdown",
   "metadata": {
    "colab_type": "text",
    "id": "Cxlbi1QM0ok8"
   },
   "source": [
    "## Step 2. Copy the predefined template to your project directory.\n",
    "\n",
    "In this step, we will create a working pipeline project directory and files by copying additional files from a predefined template.\n",
    "\n",
    "You may give your pipeline a different name by changing the `PIPELINE_NAME` below. This will also become the name of the project directory where your files will be put."
   ]
  },
  {
   "cell_type": "code",
   "execution_count": 9,
   "metadata": {
    "colab": {},
    "colab_type": "code",
    "id": "cIPlt-700ok-"
   },
   "outputs": [],
   "source": [
    "PIPELINE_NAME=\"my_pipeline\"\n",
    "import os\n",
    "PROJECT_DIR=os.path.join(os.path.expanduser(\"~\"),\"imported\",PIPELINE_NAME)"
   ]
  },
  {
   "cell_type": "markdown",
   "metadata": {
    "colab_type": "text",
    "id": "ozHIomcd0olB"
   },
   "source": [
    "TFX includes the `taxi` template with the TFX python package. If you are planning to solve a point-wise prediction problem, including classification and regresssion, this template could be used as a starting point.\n",
    "\n",
    "The `tfx template copy` CLI command copies predefined template files into your project directory."
   ]
  },
  {
   "cell_type": "code",
   "execution_count": 10,
   "metadata": {
    "colab": {},
    "colab_type": "code",
    "id": "VLXpTTjU0olD"
   },
   "outputs": [
    {
     "name": "stdout",
     "output_type": "stream",
     "text": [
      "2020-12-27 17:46:21.749942: I tensorflow/stream_executor/platform/default/dso_loader.cc:49] Successfully opened dynamic library libcudart.so.11.0\n",
      "CLI\n",
      "Copying taxi pipeline template\n",
      "data_validation.ipynb -> /home/jupyter/imported/my_pipeline/data_validation.ipynb\n",
      "model.py -> /home/jupyter/imported/my_pipeline/models/keras/model.py\n",
      "model_test.py -> /home/jupyter/imported/my_pipeline/models/keras/model_test.py\n",
      "constants.py -> /home/jupyter/imported/my_pipeline/models/keras/constants.py\n",
      "__init__.py -> /home/jupyter/imported/my_pipeline/models/keras/__init__.py\n",
      "features.py -> /home/jupyter/imported/my_pipeline/models/features.py\n",
      "features_test.py -> /home/jupyter/imported/my_pipeline/models/features_test.py\n",
      "model.py -> /home/jupyter/imported/my_pipeline/models/estimator/model.py\n",
      "model_test.py -> /home/jupyter/imported/my_pipeline/models/estimator/model_test.py\n",
      "constants.py -> /home/jupyter/imported/my_pipeline/models/estimator/constants.py\n",
      "__init__.py -> /home/jupyter/imported/my_pipeline/models/estimator/__init__.py\n",
      "preprocessing_test.py -> /home/jupyter/imported/my_pipeline/models/preprocessing_test.py\n",
      "__init__.py -> /home/jupyter/imported/my_pipeline/models/__init__.py\n",
      "preprocessing.py -> /home/jupyter/imported/my_pipeline/models/preprocessing.py\n",
      "beam_dag_runner.py -> /home/jupyter/imported/my_pipeline/beam_dag_runner.py\n",
      "model_analysis.ipynb -> /home/jupyter/imported/my_pipeline/model_analysis.ipynb\n",
      "pipeline.py -> /home/jupyter/imported/my_pipeline/pipeline/pipeline.py\n",
      "__init__.py -> /home/jupyter/imported/my_pipeline/pipeline/__init__.py\n",
      "configs.py -> /home/jupyter/imported/my_pipeline/pipeline/configs.py\n",
      ".gitignore -> /home/jupyter/imported/my_pipeline/.gitignore\n",
      "__init__.py -> /home/jupyter/imported/my_pipeline/__init__.py\n",
      "kubeflow_dag_runner.py -> /home/jupyter/imported/my_pipeline/kubeflow_dag_runner.py\n",
      "\u001b[0m"
     ]
    }
   ],
   "source": [
    "!tfx template copy \\\n",
    "  --pipeline-name={PIPELINE_NAME} \\\n",
    "  --destination-path={PROJECT_DIR} \\\n",
    "  --model=taxi"
   ]
  },
  {
   "cell_type": "markdown",
   "metadata": {
    "colab_type": "text",
    "id": "yxOT19QS0olH"
   },
   "source": [
    "Change the working directory context in this notebook to the project directory."
   ]
  },
  {
   "cell_type": "code",
   "execution_count": 11,
   "metadata": {
    "colab": {},
    "colab_type": "code",
    "id": "6P-HljcU0olI"
   },
   "outputs": [
    {
     "name": "stdout",
     "output_type": "stream",
     "text": [
      "/home/jupyter/imported/my_pipeline\n"
     ]
    }
   ],
   "source": [
    "%cd {PROJECT_DIR}"
   ]
  },
  {
   "cell_type": "markdown",
   "metadata": {
    "colab_type": "text",
    "id": "1tEYUQxH0olO"
   },
   "source": [
    ">NOTE: Don't forget to change directory in `File Browser` on the left by clicking into the project directory once it is created."
   ]
  },
  {
   "cell_type": "markdown",
   "metadata": {
    "colab_type": "text",
    "id": "IzT2PFrN0olQ"
   },
   "source": [
    "## Step 3. Browse your copied source files\n",
    "\n",
    "The TFX template provides basic scaffold files to build a pipeline, including Python source code, sample data, and Jupyter Notebooks to analyse the output of the pipeline. The `taxi` template uses the same *Chicago Taxi* dataset and ML model as the [Airflow Tutorial](https://www.tensorflow.org/tfx/tutorials/tfx/airflow_workshop).\n",
    "\n",
    "Here is brief introduction to each of the Python files.\n",
    "-   `pipeline` - This directory contains the definition of the pipeline\n",
    "    -   `configs.py` — defines common constants for pipeline runners\n",
    "    -   `pipeline.py` — defines TFX components and a pipeline\n",
    "-   `models` - This directory contains ML model definitions.\n",
    "    -   `features.py`, `features_test.py` — defines features for the model\n",
    "    -   `preprocessing.py`, `preprocessing_test.py` — defines preprocessing\n",
    "        jobs using `tf::Transform`\n",
    "    -   `estimator` - This directory contains an Estimator based model.\n",
    "        -   `constants.py` — defines constants of the model\n",
    "        -   `model.py`, `model_test.py` — defines DNN model using TF estimator\n",
    "    -   `keras` - This directory contains a Keras based model.\n",
    "        -   `constants.py` — defines constants of the model\n",
    "        -   `model.py`, `model_test.py` — defines DNN model using Keras\n",
    "-   `beam_dag_runner.py`, `kubeflow_dag_runner.py` — define runners for each orchestration engine\n"
   ]
  },
  {
   "cell_type": "markdown",
   "metadata": {
    "colab_type": "text",
    "id": "ROwHAsDK0olT"
   },
   "source": [
    "You might notice that there are some files with `_test.py` in their name. These are unit tests of the pipeline and it is recommended to add more unit tests as you implement your own pipelines.\n",
    "You can run unit tests by supplying the module name of test files with `-m` flag. You can usually get a module name by deleting `.py` extension and replacing `/` with `.`.  For example:"
   ]
  },
  {
   "cell_type": "code",
   "execution_count": 12,
   "metadata": {
    "colab": {},
    "colab_type": "code",
    "id": "M0cMdE2Z0olU"
   },
   "outputs": [
    {
     "name": "stdout",
     "output_type": "stream",
     "text": [
      "2020-12-27 18:07:40.846637: I tensorflow/stream_executor/platform/default/dso_loader.cc:49] Successfully opened dynamic library libcudart.so.11.0\n",
      "Running tests under Python 3.7.8: /opt/conda/bin/python\n",
      "[ RUN      ] FeaturesTest.testNumberOfBucketFeatureBucketCount\n",
      "INFO:tensorflow:time(__main__.FeaturesTest.testNumberOfBucketFeatureBucketCount): 0.0s\n",
      "I1227 18:07:43.010635 139879498610496 test_util.py:2076] time(__main__.FeaturesTest.testNumberOfBucketFeatureBucketCount): 0.0s\n",
      "[       OK ] FeaturesTest.testNumberOfBucketFeatureBucketCount\n",
      "[ RUN      ] FeaturesTest.testTransformedNames\n",
      "INFO:tensorflow:time(__main__.FeaturesTest.testTransformedNames): 0.0s\n",
      "I1227 18:07:43.011125 139879498610496 test_util.py:2076] time(__main__.FeaturesTest.testTransformedNames): 0.0s\n",
      "[       OK ] FeaturesTest.testTransformedNames\n",
      "[ RUN      ] FeaturesTest.test_session\n",
      "[  SKIPPED ] FeaturesTest.test_session\n",
      "----------------------------------------------------------------------\n",
      "Ran 3 tests in 0.001s\n",
      "\n",
      "OK (skipped=1)\n",
      "2020-12-27 18:07:43.741648: I tensorflow/stream_executor/platform/default/dso_loader.cc:49] Successfully opened dynamic library libcudart.so.11.0\n",
      "Running tests under Python 3.7.8: /opt/conda/bin/python\n",
      "[ RUN      ] ModelTest.testBuildKerasModel\n",
      "2020-12-27 18:07:45.968258: I tensorflow/compiler/jit/xla_cpu_device.cc:41] Not creating XLA devices, tf_xla_enable_xla_devices not set\n",
      "2020-12-27 18:07:45.968685: W tensorflow/stream_executor/platform/default/dso_loader.cc:60] Could not load dynamic library 'libcuda.so.1'; dlerror: libcuda.so.1: cannot open shared object file: No such file or directory; LD_LIBRARY_PATH: /usr/local/cuda/lib64:/usr/local/nccl2/lib:/usr/local/cuda/extras/CUPTI/lib64\n",
      "2020-12-27 18:07:45.968726: W tensorflow/stream_executor/cuda/cuda_driver.cc:326] failed call to cuInit: UNKNOWN ERROR (303)\n",
      "2020-12-27 18:07:45.968766: I tensorflow/stream_executor/cuda/cuda_diagnostics.cc:156] kernel driver does not appear to be running on this host (tensorflow-2-1-20201227-181958): /proc/driver/nvidia/version does not exist\n",
      "2020-12-27 18:07:45.969194: I tensorflow/compiler/jit/xla_gpu_device.cc:99] Not creating XLA devices, tf_xla_enable_xla_devices not set\n",
      "I1227 18:07:46.061717 140056875272000 layer_utils.py:191] Model: \"model\"\n",
      "I1227 18:07:46.061919 140056875272000 layer_utils.py:192] __________________________________________________________________________________________________\n",
      "I1227 18:07:46.062052 140056875272000 layer_utils.py:189] Layer (type)                    Output Shape         Param #     Connected to                     \n",
      "I1227 18:07:46.062125 140056875272000 layer_utils.py:194] ==================================================================================================\n",
      "I1227 18:07:46.062365 140056875272000 layer_utils.py:189] pickup_latitude_xf (InputLayer) [(None,)]            0                                            \n",
      "I1227 18:07:46.062476 140056875272000 layer_utils.py:258] __________________________________________________________________________________________________\n",
      "I1227 18:07:46.062651 140056875272000 layer_utils.py:189] trip_miles_xf (InputLayer)      [(None,)]            0                                            \n",
      "I1227 18:07:46.062754 140056875272000 layer_utils.py:258] __________________________________________________________________________________________________\n",
      "I1227 18:07:46.062928 140056875272000 layer_utils.py:189] trip_start_hour_xf (InputLayer) [(None,)]            0                                            \n",
      "I1227 18:07:46.063019 140056875272000 layer_utils.py:258] __________________________________________________________________________________________________\n",
      "I1227 18:07:46.063279 140056875272000 layer_utils.py:189] dense_features (DenseFeatures)  (None, 1)            0           pickup_latitude_xf[0][0]         \n",
      "I1227 18:07:46.063370 140056875272000 layer_utils.py:189]                                                                  trip_miles_xf[0][0]              \n",
      "I1227 18:07:46.063459 140056875272000 layer_utils.py:189]                                                                  trip_start_hour_xf[0][0]         \n",
      "I1227 18:07:46.063529 140056875272000 layer_utils.py:258] __________________________________________________________________________________________________\n",
      "I1227 18:07:46.063821 140056875272000 layer_utils.py:189] dense (Dense)                   (None, 1)            2           dense_features[0][0]             \n",
      "I1227 18:07:46.063933 140056875272000 layer_utils.py:258] __________________________________________________________________________________________________\n",
      "I1227 18:07:46.064197 140056875272000 layer_utils.py:189] dense_1 (Dense)                 (None, 1)            2           dense[0][0]                      \n",
      "I1227 18:07:46.064291 140056875272000 layer_utils.py:258] __________________________________________________________________________________________________\n",
      "I1227 18:07:46.064533 140056875272000 layer_utils.py:189] dense_features_1 (DenseFeatures (None, 34)           0           pickup_latitude_xf[0][0]         \n",
      "I1227 18:07:46.064653 140056875272000 layer_utils.py:189]                                                                  trip_miles_xf[0][0]              \n",
      "I1227 18:07:46.064742 140056875272000 layer_utils.py:189]                                                                  trip_start_hour_xf[0][0]         \n",
      "I1227 18:07:46.064814 140056875272000 layer_utils.py:258] __________________________________________________________________________________________________\n",
      "I1227 18:07:46.064966 140056875272000 layer_utils.py:189] concatenate (Concatenate)       (None, 35)           0           dense_1[0][0]                    \n",
      "I1227 18:07:46.065064 140056875272000 layer_utils.py:189]                                                                  dense_features_1[0][0]           \n",
      "I1227 18:07:46.065141 140056875272000 layer_utils.py:258] __________________________________________________________________________________________________\n",
      "I1227 18:07:46.065357 140056875272000 layer_utils.py:189] dense_2 (Dense)                 (None, 1)            36          concatenate[0][0]                \n",
      "I1227 18:07:46.065440 140056875272000 layer_utils.py:258] __________________________________________________________________________________________________\n",
      "I1227 18:07:46.065601 140056875272000 layer_utils.py:189] tf.compat.v1.squeeze (TFOpLambd (None,)              0           dense_2[0][0]                    \n",
      "I1227 18:07:46.065674 140056875272000 layer_utils.py:256] ==================================================================================================\n",
      "I1227 18:07:46.066133 140056875272000 layer_utils.py:267] Total params: 40\n",
      "I1227 18:07:46.066240 140056875272000 layer_utils.py:268] Trainable params: 40\n",
      "I1227 18:07:46.066331 140056875272000 layer_utils.py:269] Non-trainable params: 0\n",
      "I1227 18:07:46.066397 140056875272000 layer_utils.py:270] __________________________________________________________________________________________________\n",
      "I1227 18:07:46.156360 140056875272000 layer_utils.py:191] Model: \"model_1\"\n",
      "I1227 18:07:46.156546 140056875272000 layer_utils.py:192] __________________________________________________________________________________________________\n",
      "I1227 18:07:46.156646 140056875272000 layer_utils.py:189] Layer (type)                    Output Shape         Param #     Connected to                     \n",
      "I1227 18:07:46.156716 140056875272000 layer_utils.py:194] ==================================================================================================\n",
      "I1227 18:07:46.156954 140056875272000 layer_utils.py:189] pickup_latitude_xf (InputLayer) [(None,)]            0                                            \n",
      "I1227 18:07:46.157061 140056875272000 layer_utils.py:258] __________________________________________________________________________________________________\n",
      "I1227 18:07:46.157235 140056875272000 layer_utils.py:189] trip_miles_xf (InputLayer)      [(None,)]            0                                            \n",
      "I1227 18:07:46.157323 140056875272000 layer_utils.py:258] __________________________________________________________________________________________________\n",
      "I1227 18:07:46.157485 140056875272000 layer_utils.py:189] trip_start_hour_xf (InputLayer) [(None,)]            0                                            \n",
      "I1227 18:07:46.157563 140056875272000 layer_utils.py:258] __________________________________________________________________________________________________\n",
      "I1227 18:07:46.157856 140056875272000 layer_utils.py:189] dense_features_2 (DenseFeatures (None, 1)            0           pickup_latitude_xf[0][0]         \n",
      "I1227 18:07:46.157977 140056875272000 layer_utils.py:189]                                                                  trip_miles_xf[0][0]              \n",
      "I1227 18:07:46.158076 140056875272000 layer_utils.py:189]                                                                  trip_start_hour_xf[0][0]         \n",
      "I1227 18:07:46.158151 140056875272000 layer_utils.py:258] __________________________________________________________________________________________________\n",
      "I1227 18:07:46.158410 140056875272000 layer_utils.py:189] dense_3 (Dense)                 (None, 1)            2           dense_features_2[0][0]           \n",
      "I1227 18:07:46.158506 140056875272000 layer_utils.py:258] __________________________________________________________________________________________________\n",
      "I1227 18:07:46.158745 140056875272000 layer_utils.py:189] dense_features_3 (DenseFeatures (None, 34)           0           pickup_latitude_xf[0][0]         \n",
      "I1227 18:07:46.158850 140056875272000 layer_utils.py:189]                                                                  trip_miles_xf[0][0]              \n",
      "I1227 18:07:46.158934 140056875272000 layer_utils.py:189]                                                                  trip_start_hour_xf[0][0]         \n",
      "I1227 18:07:46.159010 140056875272000 layer_utils.py:258] __________________________________________________________________________________________________\n",
      "I1227 18:07:46.159177 140056875272000 layer_utils.py:189] concatenate_1 (Concatenate)     (None, 35)           0           dense_3[0][0]                    \n",
      "I1227 18:07:46.159269 140056875272000 layer_utils.py:189]                                                                  dense_features_3[0][0]           \n",
      "I1227 18:07:46.159347 140056875272000 layer_utils.py:258] __________________________________________________________________________________________________\n",
      "I1227 18:07:46.159573 140056875272000 layer_utils.py:189] dense_4 (Dense)                 (None, 1)            36          concatenate_1[0][0]              \n",
      "I1227 18:07:46.159678 140056875272000 layer_utils.py:258] __________________________________________________________________________________________________\n",
      "I1227 18:07:46.159841 140056875272000 layer_utils.py:189] tf.compat.v1.squeeze_1 (TFOpLam (None,)              0           dense_4[0][0]                    \n",
      "I1227 18:07:46.159934 140056875272000 layer_utils.py:256] ==================================================================================================\n",
      "I1227 18:07:46.160406 140056875272000 layer_utils.py:267] Total params: 38\n",
      "I1227 18:07:46.160528 140056875272000 layer_utils.py:268] Trainable params: 38\n",
      "I1227 18:07:46.160628 140056875272000 layer_utils.py:269] Non-trainable params: 0\n",
      "I1227 18:07:46.160702 140056875272000 layer_utils.py:270] __________________________________________________________________________________________________\n",
      "INFO:tensorflow:time(__main__.ModelTest.testBuildKerasModel): 0.22s\n",
      "I1227 18:07:46.161774 140056875272000 test_util.py:2076] time(__main__.ModelTest.testBuildKerasModel): 0.22s\n",
      "[       OK ] ModelTest.testBuildKerasModel\n",
      "[ RUN      ] ModelTest.test_session\n",
      "[  SKIPPED ] ModelTest.test_session\n",
      "----------------------------------------------------------------------\n",
      "Ran 2 tests in 0.226s\n",
      "\n",
      "OK (skipped=1)\n"
     ]
    }
   ],
   "source": [
    "!{sys.executable} -m models.features_test\n",
    "!{sys.executable} -m models.keras.model_test\n"
   ]
  },
  {
   "cell_type": "markdown",
   "metadata": {
    "colab_type": "text",
    "id": "tO9Jhplo0olX"
   },
   "source": [
    "## Step 4. Run your first TFX pipeline\n",
    "\n",
    "Components in the TFX pipeline will generate outputs for each run as [ML Metadata Artifacts](https://www.tensorflow.org/tfx/guide/mlmd), and they need to be stored somewhere. You can use any storage which the KFP cluster can access, and for this example we will use Google Cloud Storage (GCS). A default GCS bucket should have been created automatically. Its name will be `<your-project-id>-kubeflowpipelines-default`.\n"
   ]
  },
  {
   "cell_type": "markdown",
   "metadata": {
    "colab_type": "text",
    "id": "Zr-RjyPWTHdH"
   },
   "source": [
    "Let's upload our sample data to GCS bucket so that we can use it in our pipeline later."
   ]
  },
  {
   "cell_type": "code",
   "execution_count": 13,
   "metadata": {
    "colab": {},
    "colab_type": "code",
    "id": "gW-dSHW-TSdc"
   },
   "outputs": [
    {
     "name": "stdout",
     "output_type": "stream",
     "text": [
      "Copying file://data/data.csv [Content-Type=text/csv]...\n",
      "/ [1 files][  1.9 MiB/  1.9 MiB]                                                \n",
      "Operation completed over 1 objects/1.9 MiB.                                      \n"
     ]
    }
   ],
   "source": [
    "!gsutil cp data/data.csv gs://{GOOGLE_CLOUD_PROJECT}-kubeflowpipelines-default/tfx-template/data/data.csv"
   ]
  },
  {
   "cell_type": "markdown",
   "metadata": {
    "colab_type": "text",
    "id": "wc54hDZu0ole"
   },
   "source": [
    "Let's create a TFX pipeline using the `tfx pipeline create` command.\n",
    "\n",
    ">Note: When creating a pipeline for KFP, we need a container image which will be used to run our pipeline. And `skaffold` will build the image for us. Because skaffold pulls base images from the docker hub, it will take 5~10 minutes when we build the image for the first time, but it will take much less time from the second build."
   ]
  },
  {
   "cell_type": "code",
   "execution_count": 14,
   "metadata": {
    "colab": {},
    "colab_type": "code",
    "collapsed": true,
    "id": "kOU7zQof0olf",
    "jupyter": {
     "outputs_hidden": true
    }
   },
   "outputs": [
    {
     "name": "stdout",
     "output_type": "stream",
     "text": [
      "2020-12-27 18:13:53.671260: I tensorflow/stream_executor/platform/default/dso_loader.cc:49] Successfully opened dynamic library libcudart.so.11.0\n",
      "CLI\n",
      "Creating pipeline\n",
      "Detected Kubeflow.\n",
      "Use --engine flag if you intend to use a different orchestrator.\n",
      "Reading build spec from build.yaml\n",
      "No local setup.py, copying the directory and configuring the PYTHONPATH.\n",
      "[Skaffold] Generating tags...\n",
      "[Skaffold]  - gcr.io/rl-adventure/tfx-pipeline -> gcr.io/rl-adventure/tfx-pipeline:latest\n",
      "[Skaffold] Checking cache...\n",
      "[Skaffold]  - gcr.io/rl-adventure/tfx-pipeline: Not found. Building\n",
      "[Skaffold] Building [gcr.io/rl-adventure/tfx-pipeline]...\n",
      "Sending build context to Docker daemon  2.105MBon  544.3kB\n",
      "[Skaffold] Step 1/4 : FROM tensorflow/tfx:0.23.0\n",
      "[Skaffold] 0.23.0: Pulling from tensorflow/tfx\n",
      "[Skaffold] bd47987755ba: Pulling fs layer\n",
      "[Skaffold] 831c222b21d8: Pulling fs layer\n",
      "[Skaffold] 3c2cba919283: Pulling fs layer\n",
      "[Skaffold] e378d88a5f59: Pulling fs layer\n",
      "[Skaffold] df37508d2f5c: Pulling fs layer\n",
      "[Skaffold] c28e7cc900d1: Pulling fs layer\n",
      "[Skaffold] 9019978541a7: Pulling fs layer\n",
      "[Skaffold] 3b9ca765a0c8: Pulling fs layer\n",
      "[Skaffold] 92e98f1514d4: Pulling fs layer\n",
      "[Skaffold] 9553ed84d1c5: Pulling fs layer\n",
      "[Skaffold] 064c52e9bc2f: Pulling fs layer\n",
      "[Skaffold] d7132229654a: Pulling fs layer\n",
      "[Skaffold] e378d88a5f59: Waiting\n",
      "[Skaffold] df37508d2f5c: Waiting\n",
      "[Skaffold] c28e7cc900d1: Waiting\n",
      "[Skaffold] 9019978541a7: Waiting\n",
      "[Skaffold] 3b9ca765a0c8: Waiting\n",
      "[Skaffold] 92e98f1514d4: Waiting\n",
      "[Skaffold] 9553ed84d1c5: Waiting\n",
      "[Skaffold] 064c52e9bc2f: Waiting\n",
      "[Skaffold] d7132229654a: Waiting\n",
      "[Skaffold] 3c2cba919283: Verifying Checksum\n",
      "[Skaffold] 3c2cba919283: Download complete\n",
      "[Skaffold] 831c222b21d8: Verifying Checksum\n",
      "[Skaffold] 831c222b21d8: Download complete\n",
      "[Skaffold] bd47987755ba: Verifying Checksum\n",
      "[Skaffold] bd47987755ba: Download complete\n",
      "[Skaffold] df37508d2f5c: Verifying Checksum\n",
      "[Skaffold] df37508d2f5c: Download complete\n",
      "[Skaffold] 9019978541a7: Verifying Checksum\n",
      "[Skaffold] 9019978541a7: Download complete\n",
      "[Skaffold] bd47987755ba: Pull complete\n",
      "[Skaffold] 831c222b21d8: Pull complete\n",
      "[Skaffold] 3c2cba919283: Pull complete\n",
      "[Skaffold] c28e7cc900d1: Verifying Checksum\n",
      "[Skaffold] c28e7cc900d1: Download complete\n",
      "[Skaffold] e378d88a5f59: Verifying Checksum\n",
      "[Skaffold] e378d88a5f59: Download complete\n",
      "[Skaffold] 92e98f1514d4: Verifying Checksum\n",
      "[Skaffold] 92e98f1514d4: Download complete\n",
      "[Skaffold] 064c52e9bc2f: Verifying Checksum\n",
      "[Skaffold] 064c52e9bc2f: Download complete\n",
      "[Skaffold] d7132229654a: Verifying Checksum\n",
      "[Skaffold] d7132229654a: Download complete\n",
      "[Skaffold] 9553ed84d1c5: Verifying Checksum\n",
      "[Skaffold] 9553ed84d1c5: Download complete\n",
      "[Skaffold] e378d88a5f59: Pull complete\n",
      "[Skaffold] df37508d2f5c: Pull complete\n",
      "[Skaffold] c28e7cc900d1: Pull complete\n",
      "[Skaffold] 9019978541a7: Pull complete\n",
      "[Skaffold] 3b9ca765a0c8: Verifying Checksum\n",
      "[Skaffold] 3b9ca765a0c8: Download complete\n",
      "[Skaffold] 3b9ca765a0c8: Pull complete\n",
      "[Skaffold] 92e98f1514d4: Pull complete\n",
      "[Skaffold] 9553ed84d1c5: Pull complete\n",
      "[Skaffold] 064c52e9bc2f: Pull complete\n",
      "[Skaffold] d7132229654a: Pull complete\n",
      "[Skaffold] Digest: sha256:25045178e0a7f0f04ae389df7bfe1e78b23c9c22e6d140e71cb4082a53c5a641\n",
      "[Skaffold] Status: Downloaded newer image for tensorflow/tfx:0.23.0\n",
      "[Skaffold]  ---> f8355268ae44\n",
      "[Skaffold] Step 2/4 : WORKDIR /pipeline\n",
      "[Skaffold]  ---> Running in c51cf1395186\n",
      "[Skaffold]  ---> 97dcb42fd711\n",
      "[Skaffold] Step 3/4 : COPY ./ ./\n",
      "[Skaffold]  ---> 1b741b425353\n",
      "[Skaffold] Step 4/4 : ENV PYTHONPATH=\"/pipeline:${PYTHONPATH}\"\n",
      "[Skaffold]  ---> Running in e55e88c654f3\n",
      "[Skaffold]  ---> 33b4b1d76a17\n",
      "[Skaffold] Successfully built 33b4b1d76a17\n",
      "[Skaffold] Successfully tagged gcr.io/rl-adventure/tfx-pipeline:latest\n",
      "[Skaffold] The push refers to repository [gcr.io/rl-adventure/tfx-pipeline]\n",
      "[Skaffold] 15e5e9eb505e: Preparing\n",
      "[Skaffold] 0b56cf451a1d: Preparing\n",
      "[Skaffold] 9042e84a180f: Preparing\n",
      "[Skaffold] 4f874315440c: Preparing\n",
      "[Skaffold] f13a156e38fd: Preparing\n",
      "[Skaffold] 572b4b19939e: Preparing\n",
      "[Skaffold] d8bc156b2e76: Preparing\n",
      "[Skaffold] 4058ae03fa32: Preparing\n",
      "[Skaffold] e3437c61d457: Preparing\n",
      "[Skaffold] 84ff92691f90: Preparing\n",
      "[Skaffold] 54b00d861a7a: Preparing\n",
      "[Skaffold] c547358928ab: Preparing\n",
      "[Skaffold] 84ff92691f90: Preparing\n",
      "[Skaffold] c4e66be694ce: Preparing\n",
      "[Skaffold] 47cc65c6dd57: Preparing\n",
      "[Skaffold] e3437c61d457: Waiting\n",
      "[Skaffold] 84ff92691f90: Waiting\n",
      "[Skaffold] 54b00d861a7a: Waiting\n",
      "[Skaffold] c547358928ab: Waiting\n",
      "[Skaffold] 572b4b19939e: Waiting\n",
      "[Skaffold] d8bc156b2e76: Waiting\n",
      "[Skaffold] 4058ae03fa32: Waiting\n",
      "[Skaffold] c4e66be694ce: Waiting\n",
      "[Skaffold] 47cc65c6dd57: Waiting\n",
      "[Skaffold] 15e5e9eb505e: Pushed\n",
      "[Skaffold] 0b56cf451a1d: Pushed\n",
      "[Skaffold] 4f874315440c: Pushed\n",
      "[Skaffold] 4058ae03fa32: Layer already exists\n",
      "[Skaffold] 9042e84a180f: Pushed\n",
      "[Skaffold] 84ff92691f90: Layer already exists\n",
      "[Skaffold] 54b00d861a7a: Pushed\n",
      "[Skaffold] 572b4b19939e: Pushed\n",
      "[Skaffold] c4e66be694ce: Pushed\n",
      "[Skaffold] e3437c61d457: Pushed\n",
      "[Skaffold] 47cc65c6dd57: Pushed\n",
      "[Skaffold] d8bc156b2e76: Pushed\n",
      "[Skaffold] c547358928ab: Pushed\n",
      "[Skaffold] f13a156e38fd: Pushed\n",
      "[Skaffold] latest: digest: sha256:1294787b25024873f9fa008ccdf8c28ce402bbf8fb820e6fc814130522720ca8 size: 3479\n",
      "[Skaffold] Help improve Skaffold with our 2-minute anonymous survey: run 'skaffold survey'\n",
      "New container image is built. Target image is available in the build spec file.\n",
      "2020-12-27 18:19:29.540925: I tensorflow/stream_executor/platform/default/dso_loader.cc:49] Successfully opened dynamic library libcudart.so.11.0\n",
      "/home/jupyter/.local/lib/python3.7/site-packages/tfx/orchestration/data_types.py:191: UserWarning: RuntimeParameter is only supported on KubeflowDagRunner currently.\n",
      "  warnings.warn('RuntimeParameter is only supported on KubeflowDagRunner '\n",
      "WARNING:tensorflow:From /home/jupyter/imported/my_pipeline/pipeline/pipeline.py:75: external_input (from tfx.utils.dsl_utils) is deprecated and will be removed in a future version.\n",
      "Instructions for updating:\n",
      "external_input is deprecated, directly pass the uri to ExampleGen.\n",
      "WARNING:absl:The \"input\" argument to the CsvExampleGen component has been deprecated by \"input_base\". Please update your usage as support for this argument will be removed soon.\n",
      "INFO:absl:Excluding no splits because exclude_splits is not set.\n",
      "INFO:absl:Excluding no splits because exclude_splits is not set.\n",
      "INFO:absl:Excluding no splits because exclude_splits is not set.\n",
      "WARNING:absl:Only one of `artifacts` and `matching_channel_name` should be set.\n",
      "INFO:absl:Adding upstream dependencies for component CsvExampleGen\n",
      "\u001b[0mPipeline compiled successfully.\n",
      "Pipeline package path: /home/jupyter/imported/my_pipeline/my_pipeline.tar.gz\n",
      "{'created_at': datetime.datetime(2020, 12, 27, 18, 19, 35, tzinfo=tzlocal()),\n",
      " 'default_version': {'code_source_url': None,\n",
      "                     'created_at': datetime.datetime(2020, 12, 27, 18, 19, 35, tzinfo=tzlocal()),\n",
      "                     'id': 'c670619c-0f8b-494c-bebb-58f999a3582a',\n",
      "                     'name': 'my_pipeline',\n",
      "                     'package_url': None,\n",
      "                     'parameters': [{'name': 'pipeline-root',\n",
      "                                     'value': 'gs://rl-adventure-kubeflowpipelines-default/tfx_pipeline_output/my_pipeline'}],\n",
      "                     'resource_references': [{'key': {'id': 'c670619c-0f8b-494c-bebb-58f999a3582a',\n",
      "                                                      'type': 'PIPELINE'},\n",
      "                                              'name': None,\n",
      "                                              'relationship': 'OWNER'}]},\n",
      " 'description': None,\n",
      " 'error': None,\n",
      " 'id': 'c670619c-0f8b-494c-bebb-58f999a3582a',\n",
      " 'name': 'my_pipeline',\n",
      " 'parameters': [{'name': 'pipeline-root',\n",
      "                 'value': 'gs://rl-adventure-kubeflowpipelines-default/tfx_pipeline_output/my_pipeline'}],\n",
      " 'url': None}\n",
      "Please access the pipeline detail page at http://7be68832f4612706-dot-us-central2.pipelines.googleusercontent.com/#/pipelines/details/c670619c-0f8b-494c-bebb-58f999a3582a\n",
      "Pipeline \"my_pipeline\" created successfully.\n",
      "\u001b[0m"
     ]
    }
   ],
   "source": [
    "!tfx pipeline create  \\\n",
    "--pipeline-path=kubeflow_dag_runner.py \\\n",
    "--endpoint={ENDPOINT} \\\n",
    "--build-target-image={CUSTOM_TFX_IMAGE}"
   ]
  },
  {
   "cell_type": "markdown",
   "metadata": {
    "colab_type": "text",
    "id": "QmA6___Y0olh"
   },
   "source": [
    "While creating a pipeline, `Dockerfile` and `build.yaml` will be generated to build a Docker image. Don't forget to add these files to the source control system (for example, git) along with other source files.\n",
    "\n",
    "A pipeline definition file for [argo](https://argoproj.github.io/argo/) will be generated, too. The name of this file is `${PIPELINE_NAME}.tar.gz`. For example, it will be `my_pipeline.tar.gz` if the name of your pipeline is `my_pipeline`. It is recommended NOT to include this pipeline definition file into source control, because it will be generated from other Python files and will be updated whenever you update the pipeline. For your convenience, this file is already listed in `.gitignore` which is generated automatically.\n",
    "\n",
    "NOTE: `kubeflow` will be automatically selected as an orchestration engine if `airflow` is not installed and `--engine` is not specified.\n",
    "\n",
    "Now start an execution run with the newly created pipeline using the `tfx run create` command."
   ]
  },
  {
   "cell_type": "code",
   "execution_count": 15,
   "metadata": {
    "colab": {},
    "colab_type": "code",
    "id": "cKSjVVsa0oli"
   },
   "outputs": [
    {
     "name": "stdout",
     "output_type": "stream",
     "text": [
      "2020-12-27 18:22:40.359071: I tensorflow/stream_executor/platform/default/dso_loader.cc:49] Successfully opened dynamic library libcudart.so.11.0\n",
      "CLI\n",
      "Creating a run for pipeline: my_pipeline\n",
      "Detected Kubeflow.\n",
      "Use --engine flag if you intend to use a different orchestrator.\n",
      "Run created for pipeline: my_pipeline\n",
      "+-----------------+--------------------------------------+----------+---------------------------+-----------------------------------------------------------------------------------------------------------------------------+\n",
      "| pipeline_name   | run_id                               | status   | created_at                | link                                                                                                                        |\n",
      "+=================+======================================+==========+===========================+=============================================================================================================================+\n",
      "| my_pipeline     | 775149fe-6c58-4550-ad0f-8bb465ff94b8 |          | 2020-12-27T18:22:46+00:00 | http://7be68832f4612706-dot-us-central2.pipelines.googleusercontent.com/#/runs/details/775149fe-6c58-4550-ad0f-8bb465ff94b8 |\n",
      "+-----------------+--------------------------------------+----------+---------------------------+-----------------------------------------------------------------------------------------------------------------------------+\n",
      "\u001b[0m"
     ]
    }
   ],
   "source": [
    "!tfx run create --pipeline-name={PIPELINE_NAME} --endpoint={ENDPOINT}"
   ]
  },
  {
   "cell_type": "markdown",
   "metadata": {
    "colab_type": "text",
    "id": "Pg0VxvUC0olk"
   },
   "source": [
    "Or, you can also run the pipeline in the KFP Dashboard.  The new execution run will be listed under Experiments in the KFP Dashboard.  Clicking into the experiment will allow you to monitor progress and visualize the artifacts created during the execution run."
   ]
  },
  {
   "cell_type": "markdown",
   "metadata": {
    "colab_type": "text",
    "id": "nLN4ges90oll"
   },
   "source": [
    "However, we recommend visiting the KFP Dashboard. You can access the KFP Dashboard from the Cloud AI Platform Pipelines menu in Google Cloud Console. Once you visit the dashboard, you will be able to find the pipeline, and access a wealth of information about the pipeline.\n",
    "For example, you can find your runs under the *Experiments* menu, and when you open your execution run under Experiments you can find all your artifacts from the pipeline under *Artifacts* menu.\n",
    "\n",
    ">Note: If your pipeline run fails, you can see detailed logs for each TFX component in the Experiments tab in the KFP Dashboard.\n",
    "    \n",
    "One of the major sources of failure is permission related problems. Please make sure your KFP cluster has permissions to access Google Cloud APIs. This can be configured [when you create a KFP cluster in GCP](https://cloud.google.com/ai-platform/pipelines/docs/setting-up), or see [Troubleshooting document in GCP](https://cloud.google.com/ai-platform/pipelines/docs/troubleshooting)."
   ]
  },
  {
   "cell_type": "markdown",
   "metadata": {
    "colab_type": "text",
    "id": "bYH8Y2KB0olm"
   },
   "source": [
    "## Step 5. Add components for data validation.\n",
    "\n",
    "In this step, you will add components for data validation including `StatisticsGen`, `SchemaGen`, and `ExampleValidator`. If you are interested in data validation, please see [Get started with Tensorflow Data Validation](https://www.tensorflow.org/tfx/data_validation/get_started).\n",
    "\n",
    ">**Double-click to change directory to `pipeline` and double-click again to open `pipeline.py`**. Find and uncomment the 3 lines which add `StatisticsGen`, `SchemaGen`, and `ExampleValidator` to the pipeline. (Tip: search for comments containing `TODO(step 5):`).  Make sure to save `pipeline.py` after you edit it.\n",
    "\n",
    "You now need to update the existing pipeline with modified pipeline definition. Use the `tfx pipeline update` command to update your pipeline, followed by the `tfx run create` command to create a new execution run of your updated pipeline.\n"
   ]
  },
  {
   "cell_type": "code",
   "execution_count": 16,
   "metadata": {
    "colab": {},
    "colab_type": "code",
    "id": "VE-Pqvto0olm"
   },
   "outputs": [
    {
     "name": "stdout",
     "output_type": "stream",
     "text": [
      "2020-12-27 18:28:30.402098: I tensorflow/stream_executor/platform/default/dso_loader.cc:49] Successfully opened dynamic library libcudart.so.11.0\n",
      "CLI\n",
      "Updating pipeline\n",
      "Detected Kubeflow.\n",
      "Use --engine flag if you intend to use a different orchestrator.\n",
      "Reading build spec from build.yaml\n",
      "[Skaffold] Generating tags...\n",
      "[Skaffold]  - gcr.io/rl-adventure/tfx-pipeline -> gcr.io/rl-adventure/tfx-pipeline:latest\n",
      "[Skaffold] Checking cache...\n",
      "[Skaffold]  - gcr.io/rl-adventure/tfx-pipeline: Not found. Building\n",
      "[Skaffold] Building [gcr.io/rl-adventure/tfx-pipeline]...\n",
      "Sending build context to Docker daemon  2.118MBon  546.3kB\n",
      "[Skaffold] Step 1/4 : FROM tensorflow/tfx:0.23.0\n",
      "[Skaffold]  ---> f8355268ae44\n",
      "[Skaffold] Step 2/4 : WORKDIR /pipeline\n",
      "[Skaffold]  ---> Using cache\n",
      "[Skaffold]  ---> 97dcb42fd711\n",
      "[Skaffold] Step 3/4 : COPY ./ ./\n",
      "[Skaffold]  ---> 33becd345f7e\n",
      "[Skaffold] Step 4/4 : ENV PYTHONPATH=\"/pipeline:${PYTHONPATH}\"\n",
      "[Skaffold]  ---> Running in 9dbcdd71ce12\n",
      "[Skaffold]  ---> 11c6f4e53a8e\n",
      "[Skaffold] Successfully built 11c6f4e53a8e\n",
      "[Skaffold] Successfully tagged gcr.io/rl-adventure/tfx-pipeline:latest\n",
      "[Skaffold] The push refers to repository [gcr.io/rl-adventure/tfx-pipeline]\n",
      "[Skaffold] 1ec923308da9: Preparing\n",
      "[Skaffold] 0b56cf451a1d: Preparing\n",
      "[Skaffold] 9042e84a180f: Preparing\n",
      "[Skaffold] 4f874315440c: Preparing\n",
      "[Skaffold] f13a156e38fd: Preparing\n",
      "[Skaffold] 572b4b19939e: Preparing\n",
      "[Skaffold] d8bc156b2e76: Preparing\n",
      "[Skaffold] 4058ae03fa32: Preparing\n",
      "[Skaffold] e3437c61d457: Preparing\n",
      "[Skaffold] 84ff92691f90: Preparing\n",
      "[Skaffold] 54b00d861a7a: Preparing\n",
      "[Skaffold] c547358928ab: Preparing\n",
      "[Skaffold] 84ff92691f90: Preparing\n",
      "[Skaffold] c4e66be694ce: Preparing\n",
      "[Skaffold] 47cc65c6dd57: Preparing\n",
      "[Skaffold] e3437c61d457: Waiting\n",
      "[Skaffold] 84ff92691f90: Waiting\n",
      "[Skaffold] 54b00d861a7a: Waiting\n",
      "[Skaffold] c547358928ab: Waiting\n",
      "[Skaffold] c4e66be694ce: Waiting\n",
      "[Skaffold] 572b4b19939e: Waiting\n",
      "[Skaffold] 47cc65c6dd57: Waiting\n",
      "[Skaffold] d8bc156b2e76: Waiting\n",
      "[Skaffold] 4058ae03fa32: Waiting\n",
      "[Skaffold] f13a156e38fd: Layer already exists\n",
      "[Skaffold] 9042e84a180f: Layer already exists\n",
      "[Skaffold] 0b56cf451a1d: Layer already exists\n",
      "[Skaffold] d8bc156b2e76: Layer already exists\n",
      "[Skaffold] 4058ae03fa32: Layer already exists\n",
      "[Skaffold] 572b4b19939e: Layer already exists\n",
      "[Skaffold] 4f874315440c: Layer already exists\n",
      "[Skaffold] e3437c61d457: Layer already exists\n",
      "[Skaffold] 54b00d861a7a: Layer already exists\n",
      "[Skaffold] 84ff92691f90: Layer already exists\n",
      "[Skaffold] c547358928ab: Layer already exists\n",
      "[Skaffold] c4e66be694ce: Layer already exists\n",
      "[Skaffold] 47cc65c6dd57: Layer already exists\n",
      "[Skaffold] 1ec923308da9: Pushed\n",
      "[Skaffold] latest: digest: sha256:985a1aa41c695b1e4c1c4ce0d213cadca43742bca34c3c63a790244b8c5fe79e size: 3479\n",
      "New container image is built. Target image is available in the build spec file.\n",
      "2020-12-27 18:28:47.421683: I tensorflow/stream_executor/platform/default/dso_loader.cc:49] Successfully opened dynamic library libcudart.so.11.0\n",
      "/home/jupyter/.local/lib/python3.7/site-packages/tfx/orchestration/data_types.py:191: UserWarning: RuntimeParameter is only supported on KubeflowDagRunner currently.\n",
      "  warnings.warn('RuntimeParameter is only supported on KubeflowDagRunner '\n",
      "WARNING:tensorflow:From /home/jupyter/imported/my_pipeline/pipeline/pipeline.py:75: external_input (from tfx.utils.dsl_utils) is deprecated and will be removed in a future version.\n",
      "Instructions for updating:\n",
      "external_input is deprecated, directly pass the uri to ExampleGen.\n",
      "WARNING:absl:The \"input\" argument to the CsvExampleGen component has been deprecated by \"input_base\". Please update your usage as support for this argument will be removed soon.\n",
      "INFO:absl:Excluding no splits because exclude_splits is not set.\n",
      "INFO:absl:Excluding no splits because exclude_splits is not set.\n",
      "INFO:absl:Excluding no splits because exclude_splits is not set.\n",
      "WARNING:absl:Only one of `artifacts` and `matching_channel_name` should be set.\n",
      "INFO:absl:Adding upstream dependencies for component CsvExampleGen\n",
      "INFO:absl:Adding upstream dependencies for component StatisticsGen\n",
      "INFO:absl:   ->  Component: CsvExampleGen\n",
      "INFO:absl:Adding upstream dependencies for component SchemaGen\n",
      "INFO:absl:   ->  Component: StatisticsGen\n",
      "INFO:absl:Adding upstream dependencies for component ExampleValidator\n",
      "INFO:absl:   ->  Component: StatisticsGen\n",
      "INFO:absl:   ->  Component: SchemaGen\n",
      "\u001b[0mPipeline compiled successfully.\n",
      "Pipeline package path: /home/jupyter/imported/my_pipeline/my_pipeline.tar.gz\n",
      "{'code_source_url': None,\n",
      " 'created_at': datetime.datetime(2020, 12, 27, 18, 28, 51, tzinfo=tzlocal()),\n",
      " 'id': '5827e3f7-3f8e-4c04-acf9-98a6bdc90dfb',\n",
      " 'name': 'my_pipeline_20201227182850',\n",
      " 'package_url': None,\n",
      " 'parameters': [{'name': 'pipeline-root',\n",
      "                 'value': 'gs://rl-adventure-kubeflowpipelines-default/tfx_pipeline_output/my_pipeline'}],\n",
      " 'resource_references': [{'key': {'id': 'c670619c-0f8b-494c-bebb-58f999a3582a',\n",
      "                                  'type': 'PIPELINE'},\n",
      "                          'name': None,\n",
      "                          'relationship': 'OWNER'}]}\n",
      "Please access the pipeline detail page at http://7be68832f4612706-dot-us-central2.pipelines.googleusercontent.com/#/pipelines/details/c670619c-0f8b-494c-bebb-58f999a3582a\n",
      "Pipeline \"my_pipeline\" updated successfully.\n",
      "\u001b[0m2020-12-27 18:28:52.706748: I tensorflow/stream_executor/platform/default/dso_loader.cc:49] Successfully opened dynamic library libcudart.so.11.0\n",
      "CLI\n",
      "Creating a run for pipeline: my_pipeline\n",
      "Detected Kubeflow.\n",
      "Use --engine flag if you intend to use a different orchestrator.\n",
      "Run created for pipeline: my_pipeline\n",
      "+-----------------+--------------------------------------+----------+---------------------------+-----------------------------------------------------------------------------------------------------------------------------+\n",
      "| pipeline_name   | run_id                               | status   | created_at                | link                                                                                                                        |\n",
      "+=================+======================================+==========+===========================+=============================================================================================================================+\n",
      "| my_pipeline     | 7ed3cc52-ac0a-40b7-831b-6a610dff0044 |          | 2020-12-27T18:28:58+00:00 | http://7be68832f4612706-dot-us-central2.pipelines.googleusercontent.com/#/runs/details/7ed3cc52-ac0a-40b7-831b-6a610dff0044 |\n",
      "+-----------------+--------------------------------------+----------+---------------------------+-----------------------------------------------------------------------------------------------------------------------------+\n",
      "\u001b[0m"
     ]
    }
   ],
   "source": [
    "# Update the pipeline\n",
    "!tfx pipeline update \\\n",
    "--pipeline-path=kubeflow_dag_runner.py \\\n",
    "--endpoint={ENDPOINT}\n",
    "# You can run the pipeline the same way.\n",
    "!tfx run create --pipeline-name {PIPELINE_NAME} --endpoint={ENDPOINT}"
   ]
  },
  {
   "cell_type": "markdown",
   "metadata": {
    "colab_type": "text",
    "id": "8q1ZYEHX0olo"
   },
   "source": [
    "### Check pipeline outputs\n",
    "\n",
    "Visit the KFP dashboard to find pipeline outputs in the page for your pipeline run. Click the *Experiments* tab on the left, and *All runs* in the Experiments page. You should be able to find the latest run under the name of your pipeline."
   ]
  },
  {
   "cell_type": "markdown",
   "metadata": {
    "colab_type": "text",
    "id": "dWMBXU510olp"
   },
   "source": [
    "## Step 6. Add components for training.\n",
    "\n",
    "In this step, you will add components for training and model validation including `Transform`, `Trainer`, `ResolverNode`, `Evaluator`, and `Pusher`.\n",
    "\n",
    ">**Double-click to open `pipeline.py`**. Find and uncomment the 5 lines which add `Transform`, `Trainer`, `ResolverNode`, `Evaluator` and `Pusher` to the pipeline. (Tip: search for `TODO(step 6):`)\n",
    "\n",
    "As you did before, you now need to update the existing pipeline with the modified pipeline definition. The instructions are the same as Step 5. Update the pipeline using `tfx pipeline update`, and create an execution run using `tfx run create`."
   ]
  },
  {
   "cell_type": "code",
   "execution_count": 17,
   "metadata": {
    "colab": {},
    "colab_type": "code",
    "id": "VQDNitkH0olq"
   },
   "outputs": [
    {
     "name": "stdout",
     "output_type": "stream",
     "text": [
      "2020-12-27 18:36:04.913311: I tensorflow/stream_executor/platform/default/dso_loader.cc:49] Successfully opened dynamic library libcudart.so.11.0\n",
      "CLI\n",
      "Updating pipeline\n",
      "Detected Kubeflow.\n",
      "Use --engine flag if you intend to use a different orchestrator.\n",
      "Reading build spec from build.yaml\n",
      "[Skaffold] Generating tags...\n",
      "[Skaffold]  - gcr.io/rl-adventure/tfx-pipeline -> gcr.io/rl-adventure/tfx-pipeline:latest\n",
      "[Skaffold] Checking cache...\n",
      "[Skaffold]  - gcr.io/rl-adventure/tfx-pipeline: Not found. Building\n",
      "[Skaffold] Building [gcr.io/rl-adventure/tfx-pipeline]...\n",
      "Sending build context to Docker daemon  2.118MBon  546.3kB\n",
      "[Skaffold] Step 1/4 : FROM tensorflow/tfx:0.23.0\n",
      "[Skaffold]  ---> f8355268ae44\n",
      "[Skaffold] Step 2/4 : WORKDIR /pipeline\n",
      "[Skaffold]  ---> Using cache\n",
      "[Skaffold]  ---> 97dcb42fd711\n",
      "[Skaffold] Step 3/4 : COPY ./ ./\n",
      "[Skaffold]  ---> 986ccc8e2676\n",
      "[Skaffold] Step 4/4 : ENV PYTHONPATH=\"/pipeline:${PYTHONPATH}\"\n",
      "[Skaffold]  ---> Running in 5b9ae07b6519\n",
      "[Skaffold]  ---> cd2e415dcf4c\n",
      "[Skaffold] Successfully built cd2e415dcf4c\n",
      "[Skaffold] Successfully tagged gcr.io/rl-adventure/tfx-pipeline:latest\n",
      "[Skaffold] The push refers to repository [gcr.io/rl-adventure/tfx-pipeline]\n",
      "[Skaffold] ac882108c47a: Preparing\n",
      "[Skaffold] 0b56cf451a1d: Preparing\n",
      "[Skaffold] 9042e84a180f: Preparing\n",
      "[Skaffold] 4f874315440c: Preparing\n",
      "[Skaffold] f13a156e38fd: Preparing\n",
      "[Skaffold] 572b4b19939e: Preparing\n",
      "[Skaffold] d8bc156b2e76: Preparing\n",
      "[Skaffold] 4058ae03fa32: Preparing\n",
      "[Skaffold] e3437c61d457: Preparing\n",
      "[Skaffold] 84ff92691f90: Preparing\n",
      "[Skaffold] 54b00d861a7a: Preparing\n",
      "[Skaffold] c547358928ab: Preparing\n",
      "[Skaffold] 84ff92691f90: Preparing\n",
      "[Skaffold] c4e66be694ce: Preparing\n",
      "[Skaffold] 47cc65c6dd57: Preparing\n",
      "[Skaffold] 572b4b19939e: Waiting\n",
      "[Skaffold] d8bc156b2e76: Waiting\n",
      "[Skaffold] 4058ae03fa32: Waiting\n",
      "[Skaffold] e3437c61d457: Waiting\n",
      "[Skaffold] 84ff92691f90: Waiting\n",
      "[Skaffold] 54b00d861a7a: Waiting\n",
      "[Skaffold] c547358928ab: Waiting\n",
      "[Skaffold] c4e66be694ce: Waiting\n",
      "[Skaffold] 47cc65c6dd57: Waiting\n",
      "[Skaffold] 0b56cf451a1d: Layer already exists\n",
      "[Skaffold] f13a156e38fd: Layer already exists\n",
      "[Skaffold] 4f874315440c: Layer already exists\n",
      "[Skaffold] 9042e84a180f: Layer already exists\n",
      "[Skaffold] 572b4b19939e: Layer already exists\n",
      "[Skaffold] d8bc156b2e76: Layer already exists\n",
      "[Skaffold] 4058ae03fa32: Layer already exists\n",
      "[Skaffold] e3437c61d457: Layer already exists\n",
      "[Skaffold] c547358928ab: Layer already exists\n",
      "[Skaffold] c4e66be694ce: Layer already exists\n",
      "[Skaffold] 54b00d861a7a: Layer already exists\n",
      "[Skaffold] 84ff92691f90: Layer already exists\n",
      "[Skaffold] 47cc65c6dd57: Layer already exists\n",
      "[Skaffold] ac882108c47a: Pushed\n",
      "[Skaffold] latest: digest: sha256:347cf9e67b3ee2f78b80c51dd3b72224eda556221f3db9c32aca105114a31498 size: 3479\n",
      "New container image is built. Target image is available in the build spec file.\n",
      "2020-12-27 18:36:21.969627: I tensorflow/stream_executor/platform/default/dso_loader.cc:49] Successfully opened dynamic library libcudart.so.11.0\n",
      "/home/jupyter/.local/lib/python3.7/site-packages/tfx/orchestration/data_types.py:191: UserWarning: RuntimeParameter is only supported on KubeflowDagRunner currently.\n",
      "  warnings.warn('RuntimeParameter is only supported on KubeflowDagRunner '\n",
      "WARNING:tensorflow:From /home/jupyter/imported/my_pipeline/pipeline/pipeline.py:75: external_input (from tfx.utils.dsl_utils) is deprecated and will be removed in a future version.\n",
      "Instructions for updating:\n",
      "external_input is deprecated, directly pass the uri to ExampleGen.\n",
      "WARNING:absl:The \"input\" argument to the CsvExampleGen component has been deprecated by \"input_base\". Please update your usage as support for this argument will be removed soon.\n",
      "INFO:absl:Excluding no splits because exclude_splits is not set.\n",
      "INFO:absl:Excluding no splits because exclude_splits is not set.\n",
      "INFO:absl:Excluding no splits because exclude_splits is not set.\n",
      "WARNING:absl:Only one of `artifacts` and `matching_channel_name` should be set.\n",
      "INFO:absl:Adding upstream dependencies for component CsvExampleGen\n",
      "INFO:absl:Adding upstream dependencies for component ResolverNode_latest_blessed_model_resolver\n",
      "INFO:absl:Adding upstream dependencies for component StatisticsGen\n",
      "INFO:absl:   ->  Component: CsvExampleGen\n",
      "INFO:absl:Adding upstream dependencies for component SchemaGen\n",
      "INFO:absl:   ->  Component: StatisticsGen\n",
      "INFO:absl:Adding upstream dependencies for component ExampleValidator\n",
      "INFO:absl:   ->  Component: StatisticsGen\n",
      "INFO:absl:   ->  Component: SchemaGen\n",
      "INFO:absl:Adding upstream dependencies for component Transform\n",
      "INFO:absl:   ->  Component: CsvExampleGen\n",
      "INFO:absl:   ->  Component: SchemaGen\n",
      "INFO:absl:Adding upstream dependencies for component Trainer\n",
      "INFO:absl:   ->  Component: Transform\n",
      "INFO:absl:   ->  Component: SchemaGen\n",
      "INFO:absl:Adding upstream dependencies for component Evaluator\n",
      "INFO:absl:   ->  Component: ResolverNode_latest_blessed_model_resolver\n",
      "INFO:absl:   ->  Component: Trainer\n",
      "INFO:absl:   ->  Component: CsvExampleGen\n",
      "INFO:absl:Adding upstream dependencies for component Pusher\n",
      "INFO:absl:   ->  Component: Trainer\n",
      "INFO:absl:   ->  Component: Evaluator\n",
      "\u001b[0mPipeline compiled successfully.\n",
      "Pipeline package path: /home/jupyter/imported/my_pipeline/my_pipeline.tar.gz\n",
      "{'code_source_url': None,\n",
      " 'created_at': datetime.datetime(2020, 12, 27, 18, 36, 25, tzinfo=tzlocal()),\n",
      " 'id': '4b9c7073-9868-4108-ac32-e0341586490c',\n",
      " 'name': 'my_pipeline_20201227183625',\n",
      " 'package_url': None,\n",
      " 'parameters': [{'name': 'pipeline-root',\n",
      "                 'value': 'gs://rl-adventure-kubeflowpipelines-default/tfx_pipeline_output/my_pipeline'}],\n",
      " 'resource_references': [{'key': {'id': 'c670619c-0f8b-494c-bebb-58f999a3582a',\n",
      "                                  'type': 'PIPELINE'},\n",
      "                          'name': None,\n",
      "                          'relationship': 'OWNER'}]}\n",
      "Please access the pipeline detail page at http://7be68832f4612706-dot-us-central2.pipelines.googleusercontent.com/#/pipelines/details/c670619c-0f8b-494c-bebb-58f999a3582a\n",
      "Pipeline \"my_pipeline\" updated successfully.\n",
      "\u001b[0m2020-12-27 18:36:27.164839: I tensorflow/stream_executor/platform/default/dso_loader.cc:49] Successfully opened dynamic library libcudart.so.11.0\n",
      "CLI\n",
      "Creating a run for pipeline: my_pipeline\n",
      "Detected Kubeflow.\n",
      "Use --engine flag if you intend to use a different orchestrator.\n",
      "Run created for pipeline: my_pipeline\n",
      "+-----------------+--------------------------------------+----------+---------------------------+-----------------------------------------------------------------------------------------------------------------------------+\n",
      "| pipeline_name   | run_id                               | status   | created_at                | link                                                                                                                        |\n",
      "+=================+======================================+==========+===========================+=============================================================================================================================+\n",
      "| my_pipeline     | 5731a259-84ad-4b65-b2b7-72ce6e39bdb6 |          | 2020-12-27T18:36:32+00:00 | http://7be68832f4612706-dot-us-central2.pipelines.googleusercontent.com/#/runs/details/5731a259-84ad-4b65-b2b7-72ce6e39bdb6 |\n",
      "+-----------------+--------------------------------------+----------+---------------------------+-----------------------------------------------------------------------------------------------------------------------------+\n",
      "\u001b[0m"
     ]
    }
   ],
   "source": [
    "!tfx pipeline update \\\n",
    "--pipeline-path=kubeflow_dag_runner.py \\\n",
    "--endpoint={ENDPOINT}\n",
    "!tfx run create --pipeline-name {PIPELINE_NAME} --endpoint={ENDPOINT}"
   ]
  },
  {
   "cell_type": "markdown",
   "metadata": {
    "colab_type": "text",
    "id": "ksWfVQUnMYCX"
   },
   "source": [
    "When this execution run finishes successfully, you have now created and run your first TFX pipeline in AI Platform Pipelines!\n",
    "\n",
    "**NOTE:** You might have noticed that every time we create a pipeline run, every component runs again and again even though the input and the parameters were not changed.\n",
    "It is waste of time and resources, and you can skip those executions with pipeline caching. You can enable caching by specifying `enable_cache=True` for the `Pipeline` object in `pipeline.py`.\n"
   ]
  },
  {
   "cell_type": "markdown",
   "metadata": {
    "colab_type": "text",
    "id": "nkF7klWi0ols"
   },
   "source": [
    "## Step 7. (*Optional*) Try BigQueryExampleGen\n",
    "\n",
    "[BigQuery](https://cloud.google.com/bigquery) is a serverless, highly scalable, and cost-effective cloud data warehouse. BigQuery can be used as a source for training examples in TFX. In this step, we will add `BigQueryExampleGen` to the pipeline.\n",
    "\n",
    ">**Double-click to open `pipeline.py`**. Comment out `CsvExampleGen` and uncomment the line which creates an instance of `BigQueryExampleGen`. You also need to uncomment the `query` argument of the `create_pipeline` function.\n",
    "\n",
    "We need to specify which GCP project to use for BigQuery, and this is done by setting `--project` in `beam_pipeline_args` when creating a pipeline.\n",
    "\n",
    ">**Double-click to open `configs.py`**. Uncomment the definition of `GOOGLE_CLOUD_REGION`, `BIG_QUERY_WITH_DIRECT_RUNNER_BEAM_PIPELINE_ARGS` and `BIG_QUERY_QUERY`. You should replace the region value in this file with the correct values for your GCP project.\n",
    "\n",
    ">**Note: You MUST set your GCP region in the `configs.py` file before proceeding.**\n",
    "\n",
    ">**Change directory one level up.** Click the name of the directory above the file list. The name of the directory is the name of the pipeline which is `my_pipeline` if you didn't change.\n",
    "\n",
    ">**Double-click to open `kubeflow_dag_runner.py`**. Uncomment two arguments, `query` and `beam_pipeline_args`, for the `create_pipeline` function.\n",
    "\n",
    "Now the pipeline is ready to use BigQuery as an example source. Update the pipeline as before and create a new execution run as we did in step 5 and 6."
   ]
  },
  {
   "cell_type": "code",
   "execution_count": null,
   "metadata": {
    "colab": {},
    "colab_type": "code",
    "id": "1sD3NxB60olt"
   },
   "outputs": [],
   "source": [
    "!tfx pipeline update \\\n",
    "--pipeline-path=kubeflow_dag_runner.py \\\n",
    "--endpoint={ENDPOINT}\n",
    "!tfx run create --pipeline-name {PIPELINE_NAME} --endpoint={ENDPOINT}"
   ]
  },
  {
   "cell_type": "markdown",
   "metadata": {
    "colab_type": "text",
    "id": "LpA2R6Lu0olv"
   },
   "source": [
    "## Step 8. (*Optional*) Try Dataflow with KFP\n",
    "\n",
    "Several [TFX Components uses Apache Beam](https://www.tensorflow.org/tfx/guide/beam) to implement data-parallel pipelines, and it means that you can distribute data processing workloads using [Google Cloud Dataflow](https://cloud.google.com/dataflow/). In this step, we will set the Kubeflow orchestrator to use dataflow as the data processing back-end for Apache Beam.\n",
    "\n",
    ">**Double-click `pipeline` to change directory, and double-click to open `configs.py`**. Uncomment the definition of `GOOGLE_CLOUD_REGION`, and `DATAFLOW_BEAM_PIPELINE_ARGS`.\n",
    "\n",
    ">**Change directory one level up.** Click the name of the directory above the file list. The name of the directory is the name of the pipeline which is `my_pipeline` if you didn't change.\n",
    "\n",
    ">**Double-click to open `kubeflow_dag_runner.py`**. Uncomment `beam_pipeline_args`. (Also make sure to comment out current `beam_pipeline_args` that you added in Step 7.)\n",
    "\n",
    "Now the pipeline is ready to use Dataflow. Update the pipeline and create an execution run as we did in step 5 and 6."
   ]
  },
  {
   "cell_type": "code",
   "execution_count": null,
   "metadata": {
    "colab": {},
    "colab_type": "code",
    "id": "H3HVPcKi0olw"
   },
   "outputs": [],
   "source": [
    "!tfx pipeline update \\\n",
    "--pipeline-path=kubeflow_dag_runner.py \\\n",
    "--endpoint={ENDPOINT}\n",
    "!tfx run create --pipeline-name {PIPELINE_NAME} --endpoint={ENDPOINT}"
   ]
  },
  {
   "cell_type": "markdown",
   "metadata": {
    "colab_type": "text",
    "id": "_uxDY13N0oly"
   },
   "source": [
    "You can find your Dataflow jobs in [Dataflow in Cloud Console](http://console.cloud.google.com/dataflow).\n",
    "\n",
    ">**Double-click to open `pipeline.py`**. Reset the value of `enable_cache` to `True`.\n"
   ]
  },
  {
   "cell_type": "markdown",
   "metadata": {
    "colab_type": "text",
    "id": "kJOmh1RY0olz"
   },
   "source": [
    "## Step 9. (*Optional*) Try Cloud AI Platform Training and Prediction with KFP\n",
    "\n",
    "TFX interoperates with several managed GCP services, such as [Cloud AI Platform for Training and Prediction](https://cloud.google.com/ai-platform/). You can set your `Trainer` component to use Cloud AI Platform Training, a managed service for training ML models. Moreover, when your model is built and ready to be served, you can *push* your model to Cloud AI Platform Prediction for serving. In this step, we will set our `Trainer` and `Pusher` component to use Cloud AI Platform services.\n",
    "\n",
    ">Before editing files, you might first have to enable *AI Platform Training & Prediction API*.\n",
    "\n",
    ">**Double-click `pipeline` to change directory, and double-click to open `configs.py`**. Uncomment the definition of `GOOGLE_CLOUD_REGION`, `GCP_AI_PLATFORM_TRAINING_ARGS` and `GCP_AI_PLATFORM_SERVING_ARGS`. We will use our custom built container image to train a model in Cloud AI Platform Training, so we should set `masterConfig.imageUri` in `GCP_AI_PLATFORM_TRAINING_ARGS` to the same value as `CUSTOM_TFX_IMAGE` above.\n",
    "\n",
    ">**Change directory one level up, and double-click to open `kubeflow_dag_runner.py`**. Uncomment `ai_platform_training_args` and `ai_platform_serving_args`.\n",
    "\n",
    "Update the pipeline and create an execution run as we did in step 5 and 6."
   ]
  },
  {
   "cell_type": "code",
   "execution_count": null,
   "metadata": {
    "colab": {},
    "colab_type": "code",
    "id": "yxOjhBmG0ol0"
   },
   "outputs": [],
   "source": [
    "!tfx pipeline update \\\n",
    "--pipeline-path=kubeflow_dag_runner.py \\\n",
    "--endpoint={ENDPOINT}\n",
    "!tfx run create --pipeline-name {PIPELINE_NAME} --endpoint={ENDPOINT}"
   ]
  },
  {
   "cell_type": "markdown",
   "metadata": {
    "colab_type": "text",
    "id": "BkoIMUfj0ol2"
   },
   "source": [
    "You can find your training jobs in [Cloud AI Platform Jobs](https://console.cloud.google.com/ai-platform/jobs). If your pipeline completed successfully, you can find your model in [Cloud AI Platform Models](https://console.cloud.google.com/ai-platform/models)."
   ]
  },
  {
   "cell_type": "markdown",
   "metadata": {
    "colab_type": "text",
    "id": "4DRTFdTy0ol3"
   },
   "source": [
    "## Step 10. Ingest YOUR data to the pipeline\n",
    "\n",
    "We made a pipeline for a model using the Chicago Taxi dataset. Now it's time to put your data into the pipeline.\n",
    "\n",
    "Your data can be stored anywhere your pipeline can access, including GCS, or BigQuery. You will need to modify the pipeline definition to access your data.\n",
    "\n",
    "1. If your data is stored in files, modify the `DATA_PATH` in `kubeflow_dag_runner.py` or `beam_dag_runner.py` and set it to the location of your files. If your data is stored in BigQuery, modify `BIG_QUERY_QUERY` in `pipeline/configs.py` to correctly query for your data.\n",
    "1. Add features in `models/features.py`.\n",
    "1. Modify `models/preprocessing.py` to [transform input data for training](https://www.tensorflow.org/tfx/guide/transform).\n",
    "1. Modify `models/keras/model.py` and `models/keras/constants.py` to [describe your ML model](https://www.tensorflow.org/tfx/guide/trainer).\n",
    "  - You can use an estimator based model, too. Change `RUN_FN` constant to `models.estimator.model.run_fn` in `pipeline/configs.py`.\n",
    "\n",
    "Please see [Trainer component guide](https://www.tensorflow.org/tfx/guide/trainer) for more introduction."
   ]
  },
  {
   "cell_type": "markdown",
   "metadata": {
    "colab_type": "text",
    "id": "20KRGsPX0ol3"
   },
   "source": [
    "## Cleaning up\n",
    "\n",
    "To clean up all Google Cloud resources used in this project, you can [delete the Google Cloud project](https://cloud.google.com/resource-manager/docs/creating-managing-projects#shutting_down_projects) you used for the tutorial.\n",
    "\n",
    "Alternatively, you can clean up individual resources by visiting each consoles:\n",
    "- [Google Cloud Storage](https://console.cloud.google.com/storage)\n",
    "- [Google Container Registry](https://console.cloud.google.com/gcr)\n",
    "- [Google Kubernetes Engine](https://console.cloud.google.com/kubernetes)\n"
   ]
  }
 ],
 "metadata": {
  "colab": {
   "collapsed_sections": [],
   "name": "template.ipynb",
   "provenance": [],
   "toc_visible": true
  },
  "environment": {
   "name": "tf2-gpu.2-1.m59",
   "type": "gcloud",
   "uri": "gcr.io/deeplearning-platform-release/tf2-gpu.2-1:m59"
  },
  "kernelspec": {
   "display_name": "Python 3",
   "language": "python",
   "name": "python3"
  },
  "language_info": {
   "codemirror_mode": {
    "name": "ipython",
    "version": 3
   },
   "file_extension": ".py",
   "mimetype": "text/x-python",
   "name": "python",
   "nbconvert_exporter": "python",
   "pygments_lexer": "ipython3",
   "version": "3.7.8"
  }
 },
 "nbformat": 4,
 "nbformat_minor": 4
}
